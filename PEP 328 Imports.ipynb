{
 "cells": [
  {
   "cell_type": "markdown",
   "metadata": {},
   "source": [
    "Python 的 import\n",
    "===\n",
    "\n",
    "# Rationale(合理的) for Parentheses\n",
    "\n",
    "當import的module很多時:\n",
    "\n",
    "```python\n",
    "from Tkinter import Tk, Frame, Button, Entry, Canvas, Text, \\\n",
    "    LEFT, DISABLED, NORMAL, RIDGE, END\n",
    "```\n",
    "\n",
    "或是換成多行\n",
    "\n",
    "```python\n",
    "from Tkinter import Tk, Frame, Button, Entry, Canvas, Text\n",
    "from Tkinter import LEFT, DISABLED, NORMAL, RIDGE, END\n",
    "```\n",
    "\n",
    "也可以使用()來包住import的modules\n",
    "```python\n",
    "from Tkinter import (Tk, Frame, Button, Entry, Canvas, Text,\n",
    "    LEFT, DISABLED, NORMAL, RIDGE, END)\n",
    "```\n",
    "\n",
    "<div class=\"alert alert-block alert-warning\">\n",
    "import * 則盡量不要用\n",
    "</div>\n",
    "\n",
    "# sys.path\n",
    "sys.path表示python預設的module搜索路徑，這也是為什麼我們可以透過修改sys.path來加入import路徑的原因。"
   ]
  },
  {
   "cell_type": "code",
   "execution_count": 1,
   "metadata": {
    "scrolled": true
   },
   "outputs": [
    {
     "name": "stdout",
     "output_type": "stream",
     "text": [
      "['', '/usr/lib/python35.zip', '/usr/lib/python3.5', '/usr/lib/python3.5/plat-x86_64-linux-gnu', '/usr/lib/python3.5/lib-dynload', '/home/splasky/.local/lib/python3.5/site-packages', '/usr/local/lib/python3.5/dist-packages', '/usr/lib/python3/dist-packages', '/usr/local/lib/python3.5/dist-packages/IPython/extensions', '/home/splasky/.ipython']\n"
     ]
    }
   ],
   "source": [
    "import sys\n",
    "print(sys.path)"
   ]
  },
  {
   "cell_type": "code",
   "execution_count": null,
   "metadata": {
    "collapsed": true
   },
   "outputs": [],
   "source": [
    "# 預先被載入的modules\n",
    "print(sys.modules)"
   ]
  },
  {
   "cell_type": "markdown",
   "metadata": {},
   "source": [
    "# 關聯式引用\n",
    "一個dot代表一個階層，和linux一樣，而只有package內可以使用關聯式import。\n",
    "```\n",
    "package/\n",
    "    __init__.py\n",
    "    subpackage1/\n",
    "        __init__.py\n",
    "        moduleX.py\n",
    "        moduleY.py\n",
    "    subpackage2/\n",
    "        __init__.py\n",
    "        moduleZ.py\n",
    "    moduleA.py\n",
    "```\n",
    "\n",
    "假設目前file是 moduleX.py or subpackage1/\\_\\_init\\_\\_.py，則我們可以用以下規則來表示:\n",
    "```python\n",
    "from .moduleY import spam\n",
    "from .moduleY import spam as ham\n",
    "from . import moduleY\n",
    "from ..subpackage1 import moduleY\n",
    "from ..subpackage2.moduleZ import eggs\n",
    "from ..moduleA import foo\n",
    "from ...package import bar\n",
    "```\n",
    "\n",
    "關聯式import的expression一定是from <> import <>,import<>永遠是 ahbsolute import，但是absolute import也可以用from <> import <>來表示(但是不能加`.`)\n",
    "\n",
    "也可以用index的方式來表示\n",
    "```\n",
    "from -2.spam import eggs\n",
    "```\n",
    "等同於\n",
    "```\n",
    "from .spam import eggs\n",
    "```\n",
    "# Relative Imports and __name__\n",
    "\n",
    "Relative imports use a module's \\_\\_name\\_\\_ attribute to determine that module's position in the package hierarchy. \n",
    "\n",
    "If the module's name does not contain any package information (e.g. it is set to '\\_\\_main\\_\\_') then relative imports are resolved as if the module were a top level module, regardless of where the module is actually located on the file system.\n"
   ]
  },
  {
   "cell_type": "markdown",
   "metadata": {},
   "source": [
    "# module搜尋過程\n",
    "\n",
    "1. 檢查sys.modules，若成功跳至`2`\n",
    "2. 檢查sys.meta_path，若成功找到module，則返回一個finder object\n",
    "3. 檢查隱藏的finder object，不同的python有不同隱藏的finder，但是都會有sys.path_hooks, sys.path_importer_cache和sys.path。\n",
    "4. 拋出ImportError\n",
    "\n"
   ]
  },
  {
   "cell_type": "markdown",
   "metadata": {},
   "source": [
    "# Ref\n",
    "pep 328:<https://www.python.org/dev/peps/pep-0328/>"
   ]
  }
 ],
 "metadata": {
  "kernelspec": {
   "display_name": "Python 3",
   "language": "python",
   "name": "python3"
  },
  "language_info": {
   "codemirror_mode": {
    "name": "ipython",
    "version": 3
   },
   "file_extension": ".py",
   "mimetype": "text/x-python",
   "name": "python",
   "nbconvert_exporter": "python",
   "pygments_lexer": "ipython3",
   "version": "3.5.3"
  },
  "latex_envs": {
   "LaTeX_envs_menu_present": true,
   "autocomplete": true,
   "bibliofile": "biblio.bib",
   "cite_by": "apalike",
   "current_citInitial": 1,
   "eqLabelWithNumbers": true,
   "eqNumInitial": 1,
   "hotkeys": {
    "equation": "Ctrl-E",
    "itemize": "Ctrl-I"
   },
   "labels_anchors": false,
   "latex_user_defs": false,
   "report_style_numbering": false,
   "user_envs_cfg": false
  },
  "toc": {
   "colors": {
    "hover_highlight": "#DAA520",
    "running_highlight": "#FF0000",
    "selected_highlight": "#FFD700"
   },
   "moveMenuLeft": true,
   "nav_menu": {
    "height": "42px",
    "width": "252px"
   },
   "navigate_menu": true,
   "number_sections": true,
   "sideBar": true,
   "threshold": 4,
   "toc_cell": false,
   "toc_section_display": "block",
   "toc_window_display": false,
   "widenNotebook": false
  },
  "varInspector": {
   "cols": {
    "lenName": 16,
    "lenType": 16,
    "lenVar": 40
   },
   "kernels_config": {
    "python": {
     "delete_cmd_postfix": "",
     "delete_cmd_prefix": "del ",
     "library": "var_list.py",
     "varRefreshCmd": "print(var_dic_list())"
    },
    "r": {
     "delete_cmd_postfix": ") ",
     "delete_cmd_prefix": "rm(",
     "library": "var_list.r",
     "varRefreshCmd": "cat(var_dic_list()) "
    }
   },
   "types_to_exclude": [
    "module",
    "function",
    "builtin_function_or_method",
    "instance",
    "_Feature"
   ],
   "window_display": false
  }
 },
 "nbformat": 4,
 "nbformat_minor": 2
}
